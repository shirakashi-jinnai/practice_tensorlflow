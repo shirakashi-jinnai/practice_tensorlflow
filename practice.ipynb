{
  "nbformat": 4,
  "nbformat_minor": 0,
  "metadata": {
    "colab": {
      "name": "practice.ipynb",
      "provenance": [],
      "collapsed_sections": [],
      "toc_visible": true,
      "authorship_tag": "ABX9TyMWIOLakcy3RQJsbaA0/LCS",
      "include_colab_link": true
    },
    "kernelspec": {
      "name": "python3",
      "display_name": "Python 3"
    },
    "language_info": {
      "name": "python"
    },
    "accelerator": "TPU"
  },
  "cells": [
    {
      "cell_type": "markdown",
      "metadata": {
        "id": "view-in-github",
        "colab_type": "text"
      },
      "source": [
        "<a href=\"https://colab.research.google.com/github/shirakashi-jinnai/practice_tensorlflow/blob/main/practice.ipynb\" target=\"_parent\"><img src=\"https://colab.research.google.com/assets/colab-badge.svg\" alt=\"Open In Colab\"/></a>"
      ]
    },
    {
      "cell_type": "code",
      "execution_count": null,
      "metadata": {
        "id": "8nsEY0bvDn92",
        "colab": {
          "base_uri": "https://localhost:8080/",
          "height": 1000
        },
        "outputId": "e9644a6b-5842-4aec-94e3-39188bba82d5"
      },
      "outputs": [
        {
          "output_type": "stream",
          "name": "stdout",
          "text": [
            "Tensorflow version:2.8.2\n",
            "Downloading data from https://storage.googleapis.com/tensorflow/tf-keras-datasets/train-labels-idx1-ubyte.gz\n",
            "32768/29515 [=================================] - 0s 0us/step\n",
            "40960/29515 [=========================================] - 0s 0us/step\n",
            "Downloading data from https://storage.googleapis.com/tensorflow/tf-keras-datasets/train-images-idx3-ubyte.gz\n",
            "26427392/26421880 [==============================] - 0s 0us/step\n",
            "26435584/26421880 [==============================] - 0s 0us/step\n",
            "Downloading data from https://storage.googleapis.com/tensorflow/tf-keras-datasets/t10k-labels-idx1-ubyte.gz\n",
            "16384/5148 [===============================================================================================] - 0s 0us/step\n",
            "Downloading data from https://storage.googleapis.com/tensorflow/tf-keras-datasets/t10k-images-idx3-ubyte.gz\n",
            "4423680/4422102 [==============================] - 0s 0us/step\n",
            "4431872/4422102 [==============================] - 0s 0us/step\n",
            "[[[0 0 0 ... 0 0 0]\n",
            "  [0 0 0 ... 0 0 0]\n",
            "  [0 0 0 ... 0 0 0]\n",
            "  ...\n",
            "  [0 0 0 ... 0 0 0]\n",
            "  [0 0 0 ... 0 0 0]\n",
            "  [0 0 0 ... 0 0 0]]\n",
            "\n",
            " [[0 0 0 ... 0 0 0]\n",
            "  [0 0 0 ... 0 0 0]\n",
            "  [0 0 0 ... 0 0 0]\n",
            "  ...\n",
            "  [0 0 0 ... 0 0 0]\n",
            "  [0 0 0 ... 0 0 0]\n",
            "  [0 0 0 ... 0 0 0]]\n",
            "\n",
            " [[0 0 0 ... 0 0 0]\n",
            "  [0 0 0 ... 0 0 0]\n",
            "  [0 0 0 ... 0 0 0]\n",
            "  ...\n",
            "  [0 0 0 ... 0 0 0]\n",
            "  [0 0 0 ... 0 0 0]\n",
            "  [0 0 0 ... 0 0 0]]\n",
            "\n",
            " ...\n",
            "\n",
            " [[0 0 0 ... 0 0 0]\n",
            "  [0 0 0 ... 0 0 0]\n",
            "  [0 0 0 ... 0 0 0]\n",
            "  ...\n",
            "  [0 0 0 ... 0 0 0]\n",
            "  [0 0 0 ... 0 0 0]\n",
            "  [0 0 0 ... 0 0 0]]\n",
            "\n",
            " [[0 0 0 ... 0 0 0]\n",
            "  [0 0 0 ... 0 0 0]\n",
            "  [0 0 0 ... 0 0 0]\n",
            "  ...\n",
            "  [0 0 0 ... 0 0 0]\n",
            "  [0 0 0 ... 0 0 0]\n",
            "  [0 0 0 ... 0 0 0]]\n",
            "\n",
            " [[0 0 0 ... 0 0 0]\n",
            "  [0 0 0 ... 0 0 0]\n",
            "  [0 0 0 ... 0 0 0]\n",
            "  ...\n",
            "  [0 0 0 ... 0 0 0]\n",
            "  [0 0 0 ... 0 0 0]\n",
            "  [0 0 0 ... 0 0 0]]] [9 0 0 ... 3 0 5] print train\n",
            "Running on TPU ['10.107.246.2:8470']\n",
            "INFO:tensorflow:Deallocate tpu buffers before initializing tpu system.\n"
          ]
        },
        {
          "output_type": "stream",
          "name": "stderr",
          "text": [
            "INFO:tensorflow:Deallocate tpu buffers before initializing tpu system.\n"
          ]
        },
        {
          "output_type": "stream",
          "name": "stdout",
          "text": [
            "INFO:tensorflow:Initializing the TPU system: grpc://10.107.246.2:8470\n"
          ]
        },
        {
          "output_type": "stream",
          "name": "stderr",
          "text": [
            "INFO:tensorflow:Initializing the TPU system: grpc://10.107.246.2:8470\n"
          ]
        },
        {
          "output_type": "stream",
          "name": "stdout",
          "text": [
            "INFO:tensorflow:Finished initializing TPU system.\n"
          ]
        },
        {
          "output_type": "stream",
          "name": "stderr",
          "text": [
            "INFO:tensorflow:Finished initializing TPU system.\n",
            "WARNING:absl:`tf.distribute.experimental.TPUStrategy` is deprecated, please use  the non experimental symbol `tf.distribute.TPUStrategy` instead.\n"
          ]
        },
        {
          "output_type": "stream",
          "name": "stdout",
          "text": [
            "INFO:tensorflow:Found TPU system:\n"
          ]
        },
        {
          "output_type": "stream",
          "name": "stderr",
          "text": [
            "INFO:tensorflow:Found TPU system:\n"
          ]
        },
        {
          "output_type": "stream",
          "name": "stdout",
          "text": [
            "INFO:tensorflow:*** Num TPU Cores: 8\n"
          ]
        },
        {
          "output_type": "stream",
          "name": "stderr",
          "text": [
            "INFO:tensorflow:*** Num TPU Cores: 8\n"
          ]
        },
        {
          "output_type": "stream",
          "name": "stdout",
          "text": [
            "INFO:tensorflow:*** Num TPU Workers: 1\n"
          ]
        },
        {
          "output_type": "stream",
          "name": "stderr",
          "text": [
            "INFO:tensorflow:*** Num TPU Workers: 1\n"
          ]
        },
        {
          "output_type": "stream",
          "name": "stdout",
          "text": [
            "INFO:tensorflow:*** Num TPU Cores Per Worker: 8\n"
          ]
        },
        {
          "output_type": "stream",
          "name": "stderr",
          "text": [
            "INFO:tensorflow:*** Num TPU Cores Per Worker: 8\n"
          ]
        },
        {
          "output_type": "stream",
          "name": "stdout",
          "text": [
            "INFO:tensorflow:*** Available Device: _DeviceAttributes(/job:localhost/replica:0/task:0/device:CPU:0, CPU, 0, 0)\n"
          ]
        },
        {
          "output_type": "stream",
          "name": "stderr",
          "text": [
            "INFO:tensorflow:*** Available Device: _DeviceAttributes(/job:localhost/replica:0/task:0/device:CPU:0, CPU, 0, 0)\n"
          ]
        },
        {
          "output_type": "stream",
          "name": "stdout",
          "text": [
            "INFO:tensorflow:*** Available Device: _DeviceAttributes(/job:worker/replica:0/task:0/device:CPU:0, CPU, 0, 0)\n"
          ]
        },
        {
          "output_type": "stream",
          "name": "stderr",
          "text": [
            "INFO:tensorflow:*** Available Device: _DeviceAttributes(/job:worker/replica:0/task:0/device:CPU:0, CPU, 0, 0)\n"
          ]
        },
        {
          "output_type": "stream",
          "name": "stdout",
          "text": [
            "INFO:tensorflow:*** Available Device: _DeviceAttributes(/job:worker/replica:0/task:0/device:TPU:0, TPU, 0, 0)\n"
          ]
        },
        {
          "output_type": "stream",
          "name": "stderr",
          "text": [
            "INFO:tensorflow:*** Available Device: _DeviceAttributes(/job:worker/replica:0/task:0/device:TPU:0, TPU, 0, 0)\n"
          ]
        },
        {
          "output_type": "stream",
          "name": "stdout",
          "text": [
            "INFO:tensorflow:*** Available Device: _DeviceAttributes(/job:worker/replica:0/task:0/device:TPU:1, TPU, 0, 0)\n"
          ]
        },
        {
          "output_type": "stream",
          "name": "stderr",
          "text": [
            "INFO:tensorflow:*** Available Device: _DeviceAttributes(/job:worker/replica:0/task:0/device:TPU:1, TPU, 0, 0)\n"
          ]
        },
        {
          "output_type": "stream",
          "name": "stdout",
          "text": [
            "INFO:tensorflow:*** Available Device: _DeviceAttributes(/job:worker/replica:0/task:0/device:TPU:2, TPU, 0, 0)\n"
          ]
        },
        {
          "output_type": "stream",
          "name": "stderr",
          "text": [
            "INFO:tensorflow:*** Available Device: _DeviceAttributes(/job:worker/replica:0/task:0/device:TPU:2, TPU, 0, 0)\n"
          ]
        },
        {
          "output_type": "stream",
          "name": "stdout",
          "text": [
            "INFO:tensorflow:*** Available Device: _DeviceAttributes(/job:worker/replica:0/task:0/device:TPU:3, TPU, 0, 0)\n"
          ]
        },
        {
          "output_type": "stream",
          "name": "stderr",
          "text": [
            "INFO:tensorflow:*** Available Device: _DeviceAttributes(/job:worker/replica:0/task:0/device:TPU:3, TPU, 0, 0)\n"
          ]
        },
        {
          "output_type": "stream",
          "name": "stdout",
          "text": [
            "INFO:tensorflow:*** Available Device: _DeviceAttributes(/job:worker/replica:0/task:0/device:TPU:4, TPU, 0, 0)\n"
          ]
        },
        {
          "output_type": "stream",
          "name": "stderr",
          "text": [
            "INFO:tensorflow:*** Available Device: _DeviceAttributes(/job:worker/replica:0/task:0/device:TPU:4, TPU, 0, 0)\n"
          ]
        },
        {
          "output_type": "stream",
          "name": "stdout",
          "text": [
            "INFO:tensorflow:*** Available Device: _DeviceAttributes(/job:worker/replica:0/task:0/device:TPU:5, TPU, 0, 0)\n"
          ]
        },
        {
          "output_type": "stream",
          "name": "stderr",
          "text": [
            "INFO:tensorflow:*** Available Device: _DeviceAttributes(/job:worker/replica:0/task:0/device:TPU:5, TPU, 0, 0)\n"
          ]
        },
        {
          "output_type": "stream",
          "name": "stdout",
          "text": [
            "INFO:tensorflow:*** Available Device: _DeviceAttributes(/job:worker/replica:0/task:0/device:TPU:6, TPU, 0, 0)\n"
          ]
        },
        {
          "output_type": "stream",
          "name": "stderr",
          "text": [
            "INFO:tensorflow:*** Available Device: _DeviceAttributes(/job:worker/replica:0/task:0/device:TPU:6, TPU, 0, 0)\n"
          ]
        },
        {
          "output_type": "stream",
          "name": "stdout",
          "text": [
            "INFO:tensorflow:*** Available Device: _DeviceAttributes(/job:worker/replica:0/task:0/device:TPU:7, TPU, 0, 0)\n"
          ]
        },
        {
          "output_type": "stream",
          "name": "stderr",
          "text": [
            "INFO:tensorflow:*** Available Device: _DeviceAttributes(/job:worker/replica:0/task:0/device:TPU:7, TPU, 0, 0)\n"
          ]
        },
        {
          "output_type": "stream",
          "name": "stdout",
          "text": [
            "INFO:tensorflow:*** Available Device: _DeviceAttributes(/job:worker/replica:0/task:0/device:TPU_SYSTEM:0, TPU_SYSTEM, 0, 0)\n"
          ]
        },
        {
          "output_type": "stream",
          "name": "stderr",
          "text": [
            "INFO:tensorflow:*** Available Device: _DeviceAttributes(/job:worker/replica:0/task:0/device:TPU_SYSTEM:0, TPU_SYSTEM, 0, 0)\n"
          ]
        },
        {
          "output_type": "stream",
          "name": "stdout",
          "text": [
            "INFO:tensorflow:*** Available Device: _DeviceAttributes(/job:worker/replica:0/task:0/device:XLA_CPU:0, XLA_CPU, 0, 0)\n"
          ]
        },
        {
          "output_type": "stream",
          "name": "stderr",
          "text": [
            "INFO:tensorflow:*** Available Device: _DeviceAttributes(/job:worker/replica:0/task:0/device:XLA_CPU:0, XLA_CPU, 0, 0)\n"
          ]
        },
        {
          "output_type": "stream",
          "name": "stdout",
          "text": [
            "Replicas: 8\n",
            "Epoch 1/5\n",
            "60/60 [==============================] - 4s 16ms/step - loss: 15.2134 - sparse_categorical_accuracy: 0.7064\n",
            "Epoch 2/5\n",
            "60/60 [==============================] - 1s 14ms/step - loss: 0.6963 - sparse_categorical_accuracy: 0.8626\n",
            "Epoch 3/5\n",
            "60/60 [==============================] - 1s 14ms/step - loss: 0.4167 - sparse_categorical_accuracy: 0.8833\n",
            "Epoch 4/5\n",
            "60/60 [==============================] - 1s 16ms/step - loss: 0.3183 - sparse_categorical_accuracy: 0.8986\n",
            "Epoch 5/5\n",
            "60/60 [==============================] - 8s 129ms/step - loss: 0.2701 - sparse_categorical_accuracy: 0.9075 - val_loss: 0.3886 - val_sparse_categorical_accuracy: 0.8810\n",
            "n= 16\n",
            "range 9\n",
            "range 2\n",
            "range 1\n",
            "range 1\n",
            "range 6\n",
            "range 1\n",
            "range 2\n",
            "range 6\n",
            "range 5\n",
            "range 7\n",
            "range 4\n",
            "range 5\n",
            "range 8\n",
            "range 3\n",
            "range 4\n",
            "range 1\n"
          ]
        },
        {
          "output_type": "display_data",
          "data": {
            "text/plain": [
              "<Figure size 576x576 with 16 Axes>"
            ],
            "image/png": "[encoded data removed]"
          },
          "metadata": {
            "needs_background": "light"
          }
        }
      ],
      "source": [
        "#TensorFlow を import して version を check　します\n",
        "import tensorflow as tf\n",
        "print('Tensorflow version:'+tf.__version__)\n",
        "\n",
        "# tf.keras.datasets を使用して,ファッションMNISTデータセットをダウンロードすることから始めます\n",
        "import numpy as np\n",
        "\n",
        "test_data = tf.keras.datasets.fasion_mnist.load_data()\n",
        "\n",
        "\n",
        "\n",
        "(x_train,y_train),(x_test,y_test)=tf.keras.datasets.fashion_mnist.load_data()\n",
        "\n",
        "# add empty color dimension\n",
        "x_train = np.expand_dims(x_train,-1)\n",
        "x_test = np.expand_dims(x_test,-1)\n",
        "\n",
        "# 次の例では3つのレイヤーを持つ標準の conv-net を使用し、各レイヤー間でドロップアウトとバッチ正規化を行います\n",
        "def create_model():\n",
        "  model=tf.keras.models.Sequential()\n",
        "\n",
        "  model.add(tf.keras.layers.Conv2D(128,(3,3),input_shape=x_train.shape[1:]))\n",
        "  model.add(tf.keras.layers.MaxPooling2D(pool_size=(2,2),strides=(2,2)))\n",
        "  model.add(tf.keras.layers.Activation('elu'))\n",
        "\n",
        "  model.add(tf.keras.layers.Flatten())\n",
        "  model.add(tf.keras.layers.Dense(10))\n",
        "  model.add(tf.keras.layers.Activation('softmax'))\n",
        "\n",
        "  return model\n",
        "\n",
        "# トレーニングを開始するために TPU でモデルを作成してからコンパイルします\n",
        "import os \n",
        "\n",
        "# TF 1.x\n",
        "# resolver = tf.tpu.cont .cluster_resolver.TPUClusterResolver(tpu='grpc://'+os.environ['COLAB_TPU_ADDR'])\n",
        "# tf.tpu.experimental.initialize_tpu_system(resolver)\n",
        "# strategy=tf.distribute.experimental.TPUStrategy(resolver)\n",
        "\n",
        "tpu = tf.distribute.cluster_resolver.TPUClusterResolver()\n",
        "print('Running on TPU',tpu.cluster_spec().as_dict()['worker'])\n",
        "\n",
        "tf.config.experimental_connect_to_cluster(tpu)\n",
        "tf.tpu.experimental.initialize_tpu_system(tpu)\n",
        "\n",
        "strategy = tf.distribute.experimental.TPUStrategy(tpu)\n",
        "print('Replicas:',strategy.num_replicas_in_sync)\n",
        "\n",
        "#\n",
        "# Create model with TPU strategy\n",
        "#\n",
        "with strategy.scope():\n",
        "  model = create_model()\n",
        "  model.compile(\n",
        "      optimizer=tf.keras.optimizers.Adam(learning_rate=1e-3),\n",
        "      loss=tf.keras.losses.sparse_categorical_crossentropy,\n",
        "      metrics=[tf.keras.metrics.sparse_categorical_accuracy])\n",
        "\n",
        "  model.fit(\n",
        "      x_train.astype(np.float32),y_train.astype(np.float32),\n",
        "      epochs=5,\n",
        "      steps_per_epoch=60,\n",
        "      validation_data=(x_test.astype(np.float32),y_test.astype(np.float32)),\n",
        "      validation_freq=5\n",
        "  )\n",
        "\n",
        "  model.save_weights('./fashion_mnist.h5',overwrite=True)\n",
        "\n",
        "  # 以上で TPU によるトレーニングが終了したので、モデルファッションカテゴリをどれだけ予測できるか見てみましょう\n",
        "  LABEL_NAMES=['t_shirt','trouser','pullover','dress','coat','sandal','shirt','sneaker','bag','ankle_boots']\n",
        "\n",
        "  cpu_model=create_model()\n",
        "  cpu_model.load_weights('./fashion_mnist.h5')\n",
        "\n",
        "  from matplotlib import pyplot\n",
        "  %matplotlib inline\n",
        "\n",
        "  def plot_predictions(images,predictions):\n",
        "    n= images.shape[0]\n",
        "    print('n=',n)\n",
        "    nc = int(np.ceil(n/4))\n",
        "    f,axes = pyplot.subplots(nc,4)\n",
        "    for i in range(nc*4):\n",
        "      y = i // 4\n",
        "      x = i% 4\n",
        "      axes[x,y].axis('off')\n",
        "      print('range',np.argmax(predictions[i]))\n",
        "\n",
        "      label = LABEL_NAMES[np.argmax(predictions[i])]\n",
        "      confidence = np.max(predictions[i])\n",
        "\n",
        "      if i > n:\n",
        "        continue\n",
        "      axes[x,y].imshow(images[i])\n",
        "      axes[x,y].text(0.5,0.5,label+'\\n%.3f'% confidence,fontsize=14)\n",
        "    \n",
        "    pyplot.gcf().set_size_inches(8,8)\n",
        "  \n",
        "  # print('→',x_test[:16],cpu_model.predict(x_test[:16]))\n",
        "\n",
        "  plot_predictions(np.squeeze(x_test[:16]),cpu_model.predict(x_test[:16]))\n",
        "\n",
        "\n",
        "\n"
      ]
    },
    {
      "cell_type": "code",
      "source": [
        "#TensorFlow を import して version を check　します\n",
        "import tensorflow as tf\n",
        "print('Tensorflow version:'+tf.__version__)\n",
        "\n",
        "# tf.keras.datasets を使用して,ファッションMNISTデータセットをダウンロードすることから始めます\n",
        "import numpy as np\n",
        "\n",
        "# データセットをロードし、サンプルを整数から浮動小数点に変換\n",
        "test_data = tf.keras.datasets.fashion_mnist.load_data()\n",
        "(x_train,y_train),(x_test,y_test)= tf.keras.datasets.mnist.load_data()\n",
        "x_train,x_test=x_train/255.0,x_test/255.0\n",
        "\n",
        "def model_creater():\n",
        "  model = tf.keras.models.Sequential()\n",
        "  layers=tf.keras.layers\n",
        "  model.add(layers.Flatten(input_shape=(28,28)))\n",
        "  model.add(layers.Dense(128,activation='relu'))\n",
        "  model.add(layers.Dropout(0.2))\n",
        "  model.add(layers.Dense(10))\n",
        "  return model\n",
        "\n",
        "model = model_creater()\n",
        "\n",
        "predictions = model(x_train[:1]).numpy()\n",
        "print(predictions)\n",
        "\n",
        "# クラスごとにこれらのロジットを確立に変換します\n",
        "tf.nn.softmax(predictions).numpy()\n",
        "\n",
        "# 損失関数は、ロジットと True の インデックスに関するベクトルを入力にとり、それぞれの標本についてクラスごとに損失のスカラーを返します。\n",
        "loss_fn = tf.keras.losses.SparseCategoricalCrossentropy(from_logits=True)\n",
        "\n",
        "loss_fn(y_train[:1],predictions).numpy()\n",
        "\n",
        "model.compile(optimizer='adam',loss=loss_fn,metrics=['accuracy'])\n",
        "\n",
        "#Model.fitメソッドは損失を最小化するようにモデルのパラメータを調整します\n",
        "model.fit(x_train,y_train,epochs=5)\n",
        "\n",
        "# evaluteメソッドはモデルの性能を検査します。これには通常検査用データセットorテストデータセットを用います\n",
        "model.evaluate(x_test,y_test,verbose=2)\n",
        "\n",
        "# モデルが確立を返すようにしたい場合は、モデルをラップしてソフトマックス関数を適用する\n",
        "probability_model=tf.keras.Sequential([\n",
        "  model,\n",
        "  tf.keras.layers.Softmax()\n",
        "])\n",
        "\n",
        "probability_model(x_test[:5])"
      ],
      "metadata": {
        "colab": {
          "base_uri": "https://localhost:8080/"
        },
        "id": "Cu104ao18z_P",
        "outputId": "93dc9d5b-4bf8-481c-f65d-b28050a97d51"
      },
      "execution_count": 1,
      "outputs": [
        {
          "output_type": "stream",
          "name": "stdout",
          "text": [
            "Tensorflow version:2.8.2\n",
            "Downloading data from https://storage.googleapis.com/tensorflow/tf-keras-datasets/train-labels-idx1-ubyte.gz\n",
            "32768/29515 [=================================] - 0s 0us/step\n",
            "40960/29515 [=========================================] - 0s 0us/step\n",
            "Downloading data from https://storage.googleapis.com/tensorflow/tf-keras-datasets/train-images-idx3-ubyte.gz\n",
            "26427392/26421880 [==============================] - 0s 0us/step\n",
            "26435584/26421880 [==============================] - 0s 0us/step\n",
            "Downloading data from https://storage.googleapis.com/tensorflow/tf-keras-datasets/t10k-labels-idx1-ubyte.gz\n",
            "16384/5148 [===============================================================================================] - 0s 0us/step\n",
            "Downloading data from https://storage.googleapis.com/tensorflow/tf-keras-datasets/t10k-images-idx3-ubyte.gz\n",
            "4423680/4422102 [==============================] - 0s 0us/step\n",
            "4431872/4422102 [==============================] - 0s 0us/step\n",
            "Downloading data from https://storage.googleapis.com/tensorflow/tf-keras-datasets/mnist.npz\n",
            "11493376/11490434 [==============================] - 0s 0us/step\n",
            "11501568/11490434 [==============================] - 0s 0us/step\n",
            "[[-0.47402987 -0.38389203  0.57695293 -0.05610029  0.13412967  0.01595534\n",
            "   0.25986305  0.10690358 -0.68886256 -0.2988682 ]]\n",
            "Epoch 1/5\n",
            "1875/1875 [==============================] - 10s 5ms/step - loss: 0.2986 - accuracy: 0.9128\n",
            "Epoch 2/5\n",
            "1875/1875 [==============================] - 9s 5ms/step - loss: 0.1448 - accuracy: 0.9574\n",
            "Epoch 3/5\n",
            "1875/1875 [==============================] - 11s 6ms/step - loss: 0.1079 - accuracy: 0.9675\n",
            "Epoch 4/5\n",
            "1875/1875 [==============================] - 9s 5ms/step - loss: 0.0881 - accuracy: 0.9728\n",
            "Epoch 5/5\n",
            "1875/1875 [==============================] - 5s 2ms/step - loss: 0.0747 - accuracy: 0.9768\n",
            "313/313 - 1s - loss: 0.0751 - accuracy: 0.9759 - 543ms/epoch - 2ms/step\n"
          ]
        },
        {
          "output_type": "execute_result",
          "data": {
            "text/plain": [
              "<tf.Tensor: shape=(5, 10), dtype=float32, numpy=\n",
              "array([[2.3677410e-07, 9.3771803e-07, 9.5810747e-06, 1.9379146e-05,\n",
              "        1.2898265e-11, 1.2616352e-08, 8.9471350e-13, 9.9996805e-01,\n",
              "        1.3884258e-07, 1.6985225e-06],\n",
              "       [1.0148802e-06, 1.0104104e-02, 9.8985821e-01, 2.2000602e-06,\n",
              "        4.4590972e-12, 2.8448136e-05, 5.7923853e-06, 2.6282871e-12,\n",
              "        1.6154320e-07, 1.9713536e-10],\n",
              "       [2.1990607e-07, 9.9927682e-01, 3.9894352e-04, 9.1589927e-06,\n",
              "        8.7971621e-06, 9.2834534e-06, 3.2931632e-05, 1.8868162e-04,\n",
              "        7.4852433e-05, 3.5275369e-07],\n",
              "       [9.9995744e-01, 1.7589139e-08, 2.4965413e-05, 8.4327361e-08,\n",
              "        2.2455919e-07, 1.1824781e-06, 6.9383991e-06, 2.3944303e-06,\n",
              "        1.7479742e-08, 6.6118328e-06],\n",
              "       [2.1948872e-05, 1.0602813e-09, 6.2490240e-06, 9.7491428e-09,\n",
              "        9.9200636e-01, 2.4951461e-07, 3.0542337e-06, 2.2932338e-04,\n",
              "        2.4337737e-07, 7.7325231e-03]], dtype=float32)>"
            ]
          },
          "metadata": {},
          "execution_count": 1
        }
      ]
    }
  ]
}